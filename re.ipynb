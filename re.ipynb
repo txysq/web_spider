{
 "cells": [
  {
   "cell_type": "code",
   "execution_count": 3,
   "metadata": {},
   "outputs": [
    {
     "name": "stdout",
     "output_type": "stream",
     "text": [
      "<_sre.SRE_Match object; span=(0, 43), match='Hello 123 456789 World_This is a Regex Demo'>\n"
     ]
    }
   ],
   "source": [
    "import re\n",
    "content = 'Hello 123 456789 World_This is a Regex Demo'\n",
    "result = re.match('^Hello\\s\\d\\d\\d\\s\\d{6}\\s\\w{10}.*',content)\n",
    "print(result)"
   ]
  },
  {
   "cell_type": "markdown",
   "metadata": {},
   "source": [
    "### re.match(patten, string)      \\s空格 \\d数字 ^匹配开头  .*匹配任意"
   ]
  },
  {
   "cell_type": "markdown",
   "metadata": {},
   "source": [
    "### 泛匹配    "
   ]
  },
  {
   "cell_type": "code",
   "execution_count": 4,
   "metadata": {},
   "outputs": [
    {
     "name": "stdout",
     "output_type": "stream",
     "text": [
      "<_sre.SRE_Match object; span=(0, 43), match='Hello 123 456789 World_This is a Regex Demo'>\n"
     ]
    }
   ],
   "source": [
    "import re\n",
    "content = 'Hello 123 456789 World_This is a Regex Demo'\n",
    "result = re.match('^Hello.*Demo',content)\n",
    "print(result)"
   ]
  },
  {
   "cell_type": "markdown",
   "metadata": {},
   "source": [
    "### 找到匹配目标"
   ]
  },
  {
   "cell_type": "code",
   "execution_count": 21,
   "metadata": {},
   "outputs": [
    {
     "name": "stdout",
     "output_type": "stream",
     "text": [
      "<_sre.SRE_Match object; span=(0, 41), match='Hello 123 4567 World_This is a Regex Demo'>\n",
      "123\n",
      "4567\n",
      "(0, 41)\n"
     ]
    }
   ],
   "source": [
    "import re\n",
    "con1 = 'Hello 123 4567 World_This is a Regex Demo'\n",
    "result = re.match('^Hello\\s(\\d+)\\s(\\d+) World.*Demo$',con1)\n",
    "print(result)\n",
    "print(result.group(1))\n",
    "print(result.group(2))\n",
    "print(result.span())"
   ]
  },
  {
   "cell_type": "markdown",
   "metadata": {},
   "source": [
    "###  贪婪匹配   .*会把之前的数字省略掉"
   ]
  },
  {
   "cell_type": "code",
   "execution_count": 23,
   "metadata": {},
   "outputs": [
    {
     "name": "stdout",
     "output_type": "stream",
     "text": [
      "<_sre.SRE_Match object; span=(0, 41), match='Hello 123 4567 World_This is a Regex Demo'>\n",
      "6\n",
      "7\n"
     ]
    }
   ],
   "source": [
    "import re\n",
    "con2 = 'Hello 123 4567 World_This is a Regex Demo'\n",
    "result = re.match('^He.*(\\d+).*(\\d+).*Demo$',con2)\n",
    "print(result)\n",
    "print(result.group(1))\n",
    "print(result.group(2))"
   ]
  },
  {
   "cell_type": "markdown",
   "metadata": {},
   "source": [
    "### 非贪婪匹配  在.*之后加上？"
   ]
  },
  {
   "cell_type": "code",
   "execution_count": 25,
   "metadata": {},
   "outputs": [
    {
     "name": "stdout",
     "output_type": "stream",
     "text": [
      "<_sre.SRE_Match object; span=(0, 41), match='Hello 123 4567 World_This is a Regex Demo'>\n",
      "123\n",
      "4567\n"
     ]
    }
   ],
   "source": [
    "import re\n",
    "con2 = 'Hello 123 4567 World_This is a Regex Demo'\n",
    "result = re.match('^He.*?(\\d+).*?(\\d+).*Demo$',con2)\n",
    "print(result)\n",
    "print(result.group(1))\n",
    "print(result.group(2))"
   ]
  },
  {
   "cell_type": "markdown",
   "metadata": {},
   "source": [
    "### 匹配模式"
   ]
  },
  {
   "cell_type": "code",
   "execution_count": 33,
   "metadata": {},
   "outputs": [
    {
     "name": "stdout",
     "output_type": "stream",
     "text": [
      "123\n"
     ]
    }
   ],
   "source": [
    "import re\n",
    "con2 = '''Hello 123 4567 World_This\n",
    "is a Regex Demo\n",
    "'''\n",
    "result = re.match('^He.*?(\\d+).*?Demo$',content,re.S)\n",
    "print(result.group(1))"
   ]
  },
  {
   "cell_type": "markdown",
   "metadata": {},
   "source": [
    "### 转义"
   ]
  },
  {
   "cell_type": "code",
   "execution_count": 34,
   "metadata": {},
   "outputs": [
    {
     "name": "stdout",
     "output_type": "stream",
     "text": [
      "None\n",
      "<_sre.SRE_Match object; span=(0, 14), match='price is $5.00'>\n"
     ]
    }
   ],
   "source": [
    "import re\n",
    "content = 'price is $5.00'\n",
    "result = re.match('price is $5.00',content)\n",
    "print(result)\n",
    "result1 = re.match('price is \\$5\\.00',content)\n",
    "print(result1)"
   ]
  },
  {
   "cell_type": "markdown",
   "metadata": {},
   "source": [
    "#### 尽量使用泛匹配 .*   使用括号得到匹配目标（\\d+）,尽量使用非贪狼模式.*?"
   ]
  },
  {
   "cell_type": "markdown",
   "metadata": {},
   "source": [
    "### re.search 扫描整个字符串返回第一个成功的匹配"
   ]
  },
  {
   "cell_type": "code",
   "execution_count": 54,
   "metadata": {},
   "outputs": [
    {
     "name": "stdout",
     "output_type": "stream",
     "text": [
      "None\n",
      "123\n"
     ]
    }
   ],
   "source": [
    "import re\n",
    "content = 'Extra strings Hello 123 4567 World_This is a Regex Demo'\n",
    "result = re.match('He.*?(\\d+).*?Demo$',content)\n",
    "result1 = re.search('He.*?(\\d+).*?Demo$',content)\n",
    "print(result)\n",
    "print(result1.group(1))"
   ]
  },
  {
   "cell_type": "markdown",
   "metadata": {},
   "source": [
    "#### 匹配演练"
   ]
  },
  {
   "cell_type": "code",
   "execution_count": 63,
   "metadata": {},
   "outputs": [
    {
     "name": "stdout",
     "output_type": "stream",
     "text": [
      "beyond 光辉岁月\n"
     ]
    }
   ],
   "source": [
    "import re \n",
    "html = \"\"\"<div id=\"songs-list\">\n",
    "     <h2 class=\"title\">经典老歌</h2>\n",
    "    <li data-view=\"6\">\n",
    "    <a href=\"/4.mp4\" singer=\"beyond\">光辉岁月</a>\n",
    "    </li>\"\"\"\n",
    "result = re.search('<li.*?href.*?singer=\"(.*?)\">(.*?)</a>',html,re.S)\n",
    "if result:\n",
    "    print(result.group(1), result.group(2))"
   ]
  },
  {
   "cell_type": "markdown",
   "metadata": {},
   "source": [
    "#### re.findall    搜索字符串，一列表形式返回全部符合的 子串\n",
    "##### re.sub  替换字符串中每个匹配子串后返回替换后的字符串"
   ]
  },
  {
   "cell_type": "code",
   "execution_count": 69,
   "metadata": {},
   "outputs": [
    {
     "name": "stdout",
     "output_type": "stream",
     "text": [
      "Hello  World_This is a Regex Demo\n",
      "Hello onetwothree World_This is a Regex Demo\n"
     ]
    }
   ],
   "source": [
    "import re\n",
    "con2 = \"Hello 123 World_This is a Regex Demo\"\n",
    "result1 =  re.sub(\"\\d+\", \"\",con2)\n",
    "result2 =  re.sub(\"\\d+\",\"onetwothree\", con2)\n",
    "print(result1)\n",
    "print(result2)"
   ]
  },
  {
   "cell_type": "markdown",
   "metadata": {},
   "source": [
    "###### re.compile 将正则表达式编译为正则对象"
   ]
  },
  {
   "cell_type": "code",
   "execution_count": 10,
   "metadata": {},
   "outputs": [
    {
     "name": "stdout",
     "output_type": "stream",
     "text": [
      "<_sre.SRE_Match object; span=(0, 46), match='Hello 123 4567 World_This is a Regex why shuki'>\n",
      "<_sre.SRE_Match object; span=(0, 46), match='Hello 123 4567 World_This is a Regex why shuki'>\n"
     ]
    }
   ],
   "source": [
    "import re\n",
    "pattern = re.compile('Hello.*shuki')\n",
    "content = 'Hello 123 4567 World_This is a Regex why shuki'\n",
    "result1 = re.match(pattern,content)\n",
    "result2 = re.match('Hello.*shuki$',content,re.S)\n",
    "print(result1)\n",
    "print(result2)"
   ]
  },
  {
   "cell_type": "markdown",
   "metadata": {},
   "source": [
    "##### 实战练习"
   ]
  },
  {
   "cell_type": "code",
   "execution_count": null,
   "metadata": {},
   "outputs": [],
   "source": [
    "import requests\n",
    "import re\n",
    "content = requests.get('https://book.douban.com/').text\n",
    "#print(content)\n",
    "pattern = re.compile('<li.*?cover.*?href=.*?title=\"(.*?)\".*?more-meta.*?author\">(.*?)</span>.*?year\">(.*?)</span>', re.S)\n",
    "result = re.findall(pattern, content)\n",
    "for item in result:\n",
    "    book_name,author, data = item\n",
    "    author = re.sub('\\s','',author)\n",
    "    data = re.sub('\\s', '', data)\n",
    "    print(book_name,author,data)"
   ]
  },
  {
   "cell_type": "code",
   "execution_count": null,
   "metadata": {},
   "outputs": [],
   "source": []
  }
 ],
 "metadata": {
  "kernelspec": {
   "display_name": "Python 3",
   "language": "python",
   "name": "python3"
  },
  "language_info": {
   "codemirror_mode": {
    "name": "ipython",
    "version": 3
   },
   "file_extension": ".py",
   "mimetype": "text/x-python",
   "name": "python",
   "nbconvert_exporter": "python",
   "pygments_lexer": "ipython3",
   "version": "3.6.0"
  }
 },
 "nbformat": 4,
 "nbformat_minor": 2
}
