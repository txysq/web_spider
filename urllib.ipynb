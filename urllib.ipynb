{
 "cells": [
  {
   "cell_type": "code",
   "execution_count": null,
   "metadata": {},
   "outputs": [],
   "source": [
    "from urllib.parse import urlparse\n",
    "result = urlparse('http://www.baidu.com/index.html/;user?id=5#comment')\n",
    "print(type(result),result)"
   ]
  },
  {
   "cell_type": "code",
   "execution_count": 4,
   "metadata": {},
   "outputs": [
    {
     "name": "stdout",
     "output_type": "stream",
     "text": [
      "ParseResult(scheme='http', netloc='', path='www.baidu.com/index.html/', params='user', query='id=5', fragment='comment')\n"
     ]
    }
   ],
   "source": [
    "from urllib.parse import urlparse\n",
    "result = urlparse('www.baidu.com/index.html/;user?id=5#comment',scheme = 'http')\n",
    "print(result)"
   ]
  },
  {
   "cell_type": "markdown",
   "metadata": {},
   "source": [
    "from urllib.parse import urlparse\n",
    "result = urlparse('www.baidu.com/index.html/;user?id=5#comment',allow_fragments=False)\n",
    "print(result)"
   ]
  },
  {
   "cell_type": "code",
   "execution_count": 7,
   "metadata": {},
   "outputs": [
    {
     "name": "stdout",
     "output_type": "stream",
     "text": [
      "ParseResult(scheme='http', netloc='www.baidu.com', path='/index.html#comment', params='', query='', fragment='')\n"
     ]
    }
   ],
   "source": [
    "from urllib.parse import urlparse\n",
    "result = urlparse('http://www.baidu.com/index.html#comment',allow_fragments=False)\n",
    "print(result)"
   ]
  },
  {
   "cell_type": "markdown",
   "metadata": {},
   "source": [
    "# urlunparse"
   ]
  },
  {
   "cell_type": "code",
   "execution_count": 10,
   "metadata": {},
   "outputs": [
    {
     "name": "stdout",
     "output_type": "stream",
     "text": [
      "http://www.baidu.com/index.html;user?a=6#comment\n"
     ]
    }
   ],
   "source": [
    "from urllib.parse import urlunparse\n",
    "data = ['http','www.baidu.com','index.html','user','a=6','comment']\n",
    "print(urlunparse(data))"
   ]
  },
  {
   "cell_type": "markdown",
   "metadata": {},
   "source": [
    "# urlencode"
   ]
  },
  {
   "cell_type": "code",
   "execution_count": 12,
   "metadata": {},
   "outputs": [
    {
     "name": "stdout",
     "output_type": "stream",
     "text": [
      "http://www.baidu.com?name=germey&age=22\n"
     ]
    }
   ],
   "source": [
    "from urllib.parse import urlencode\n",
    "params = {\n",
    "    'name':'germey',\n",
    "    'age':22\n",
    "}\n",
    "base_url = 'http://www.baidu.com?'\n",
    "url = base_url+urlencode(params)\n",
    "print(url)"
   ]
  },
  {
   "cell_type": "code",
   "execution_count": null,
   "metadata": {},
   "outputs": [],
   "source": []
  }
 ],
 "metadata": {
  "kernelspec": {
   "display_name": "Python 3",
   "language": "python",
   "name": "python3"
  },
  "language_info": {
   "codemirror_mode": {
    "name": "ipython",
    "version": 3
   },
   "file_extension": ".py",
   "mimetype": "text/x-python",
   "name": "python",
   "nbconvert_exporter": "python",
   "pygments_lexer": "ipython3",
   "version": "3.6.0"
  }
 },
 "nbformat": 4,
 "nbformat_minor": 2
}
